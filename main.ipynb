{
 "cells": [
  {
   "cell_type": "markdown",
   "id": "opened-business",
   "metadata": {},
   "source": [
    "# Playing with Normalizing Flows"
   ]
  },
  {
   "cell_type": "markdown",
   "id": "honest-stand",
   "metadata": {},
   "source": [
    "## Imports"
   ]
  },
  {
   "cell_type": "code",
   "execution_count": 99,
   "id": "swedish-brazil",
   "metadata": {},
   "outputs": [
    {
     "name": "stdout",
     "output_type": "stream",
     "text": [
      "The autoreload extension is already loaded. To reload it, use:\n",
      "  %reload_ext autoreload\n"
     ]
    }
   ],
   "source": [
    "import torch\n",
    "from flows import RadialFlow, PlanarFlow\n",
    "from models import FCNEncoder, FCNDecoder, FlowModel\n",
    "\n",
    "%load_ext autoreload\n",
    "%autoreload 2"
   ]
  },
  {
   "cell_type": "markdown",
   "id": "opposed-breathing",
   "metadata": {},
   "source": [
    "## Unit tests"
   ]
  },
  {
   "cell_type": "code",
   "execution_count": 148,
   "id": "occupied-filter",
   "metadata": {},
   "outputs": [],
   "source": [
    "layer = PlanarFlow(5)"
   ]
  },
  {
   "cell_type": "code",
   "execution_count": 149,
   "id": "atomic-johns",
   "metadata": {},
   "outputs": [
    {
     "name": "stdout",
     "output_type": "stream",
     "text": [
      "tensor([[ -6.1688],\n",
      "        [-14.5906]], grad_fn=<UnsqueezeBackward0>)\n",
      "tensor([[ 0.5134,  2.6061,  3.5839,  3.4757,  5.6268],\n",
      "        [ 5.5124,  7.6074,  8.5851,  8.4746, 10.6281]], grad_fn=<AddBackward0>)\n",
      "tensor([[-2.9931e-03,  1.2425e-03,  1.3876e-03,  1.6391e-03, -4.8029e-03],\n",
      "        [-6.5852e-07,  2.7337e-07,  3.0528e-07,  3.6064e-07, -1.0567e-06]],\n",
      "       grad_fn=<MulBackward0>)\n",
      "tensor([8.5175e-04, 2.3842e-07], grad_fn=<LogBackward>)\n"
     ]
    }
   ],
   "source": [
    "z = torch.FloatTensor([[1, 2, 3, 4, 5], [6, 7, 8, 9, 10]])\n",
    "f, log_det = layer(z)"
   ]
  },
  {
   "cell_type": "code",
   "execution_count": 151,
   "id": "portuguese-visit",
   "metadata": {},
   "outputs": [
    {
     "name": "stdout",
     "output_type": "stream",
     "text": [
      "tensor([[ 0.5134,  2.6061,  3.5839,  3.4757,  5.6268],\n",
      "        [ 5.5124,  7.6074,  8.5851,  8.4746, 10.6281]], grad_fn=<AddBackward0>)\n",
      "tensor([8.5175e-04, 2.3842e-07], grad_fn=<LogBackward>)\n"
     ]
    }
   ],
   "source": [
    "print(f)\n",
    "print(log_det)"
   ]
  },
  {
   "cell_type": "code",
   "execution_count": 159,
   "id": "several-ghana",
   "metadata": {},
   "outputs": [],
   "source": [
    "layer = RadialFlow(5)\n",
    "z = torch.FloatTensor([[1, 2, 3, 4, 5], [6, 7, 8, 9, 10]])\n",
    "f, log_det = layer(z)"
   ]
  },
  {
   "cell_type": "code",
   "execution_count": 160,
   "id": "uniform-sacramento",
   "metadata": {},
   "outputs": [
    {
     "name": "stdout",
     "output_type": "stream",
     "text": [
      "tensor([[0.8975, 1.8443, 2.8325, 3.8237, 4.6507],\n",
      "        [5.5996, 6.5464, 7.5346, 8.5258, 9.3528]], grad_fn=<AddBackward0>)\n",
      "tensor([nan], grad_fn=<AddBackward0>)\n"
     ]
    }
   ],
   "source": [
    "print(f)\n",
    "print(log_det)"
   ]
  },
  {
   "cell_type": "code",
   "execution_count": null,
   "id": "stopped-northeast",
   "metadata": {},
   "outputs": [],
   "source": []
  }
 ],
 "metadata": {
  "kernelspec": {
   "display_name": "Python 3",
   "language": "python",
   "name": "python3"
  },
  "language_info": {
   "codemirror_mode": {
    "name": "ipython",
    "version": 3
   },
   "file_extension": ".py",
   "mimetype": "text/x-python",
   "name": "python",
   "nbconvert_exporter": "python",
   "pygments_lexer": "ipython3",
   "version": "3.6.9"
  }
 },
 "nbformat": 4,
 "nbformat_minor": 5
}
