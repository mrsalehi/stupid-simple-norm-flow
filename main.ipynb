{
 "cells": [
  {
   "cell_type": "markdown",
   "id": "impressive-exemption",
   "metadata": {},
   "source": [
    "# Playing with Normalizing Flows"
   ]
  },
  {
   "cell_type": "markdown",
   "id": "exciting-place",
   "metadata": {},
   "source": [
    "## Imports"
   ]
  },
  {
   "cell_type": "code",
   "execution_count": 1,
   "id": "differential-photograph",
   "metadata": {},
   "outputs": [],
   "source": [
    "import torch\n",
    "from flows import RadialFlow, PlanarFlow\n",
    "from tqdm import tqdm\n",
    "import torch.nn.functional as F\n",
    "from models import FCNEncoder, FCNDecoder, FlowModel\n",
    "from torchvision.datasets import MNIST\n",
    "from torchvision import transforms\n",
    "from torch.utils.data import DataLoader\n",
    "from torch.nn import BCEWithLogitsLoss\n",
    "from matplotlib import pyplot as plt\n",
    "from scipy.special import logsumexp\n",
    "import numpy as np\n",
    "\n",
    "%load_ext autoreload\n",
    "%autoreload 2"
   ]
  },
  {
   "cell_type": "markdown",
   "id": "conscious-level",
   "metadata": {},
   "source": [
    "## Unit tests"
   ]
  },
  {
   "cell_type": "code",
   "execution_count": 7,
   "id": "interim-lancaster",
   "metadata": {},
   "outputs": [],
   "source": [
    "layer = PlanarFlow(5)"
   ]
  },
  {
   "cell_type": "code",
   "execution_count": 8,
   "id": "mineral-injection",
   "metadata": {},
   "outputs": [
    {
     "name": "stdout",
     "output_type": "stream",
     "text": [
      "tensor([[0.9224, 1.6608, 2.0363, 3.8097, 6.1633],\n",
      "        [6.1066, 7.4661, 9.3244, 9.2614, 8.4013]], grad_fn=<AddBackward0>)\n",
      "tensor([9.3409e-01, 1.2707e-04], grad_fn=<LogBackward>)\n"
     ]
    }
   ],
   "source": [
    "z = torch.FloatTensor([[1, 2, 3, 4, 5], [6, 7, 8, 9, 10]])\n",
    "f, log_det = layer(z)\n",
    "print(f)\n",
    "print(log_det)"
   ]
  },
  {
   "cell_type": "markdown",
   "id": "armed-mathematics",
   "metadata": {},
   "source": [
    "## Data"
   ]
  },
  {
   "cell_type": "code",
   "execution_count": 9,
   "id": "designed-richmond",
   "metadata": {},
   "outputs": [],
   "source": [
    "import tensorflow as tf\n",
    "import tensorflow_datasets as tfds"
   ]
  },
  {
   "cell_type": "code",
   "execution_count": 10,
   "id": "alert-salmon",
   "metadata": {},
   "outputs": [],
   "source": [
    "ds = tfds.load('binarized_mnist', split='train', shuffle_files=True)"
   ]
  },
  {
   "cell_type": "code",
   "execution_count": 11,
   "id": "hearing-frost",
   "metadata": {},
   "outputs": [
    {
     "data": {
      "text/plain": [
       "50000"
      ]
     },
     "execution_count": 11,
     "metadata": {},
     "output_type": "execute_result"
    }
   ],
   "source": [
    "len(ds)"
   ]
  },
  {
   "cell_type": "code",
   "execution_count": 38,
   "id": "dominant-judges",
   "metadata": {},
   "outputs": [
    {
     "name": "stderr",
     "output_type": "stream",
     "text": [
      "100%|██████████| 50000/50000 [00:04<00:00, 10966.68it/s]\n"
     ]
    }
   ],
   "source": [
    "np_images = []\n",
    "\n",
    "for example in tqdm(ds, total=len(ds)):\n",
    "    image = example[\"image\"]\n",
    "    np_images.append(image.numpy().reshape(1, 28, 28))\n",
    "    \n",
    "np_images = np.concatenate(np_images, axis=0)"
   ]
  },
  {
   "cell_type": "code",
   "execution_count": 46,
   "id": "comfortable-zimbabwe",
   "metadata": {},
   "outputs": [
    {
     "data": {
      "image/png": "[encoded data removed]",
      "text/plain": [
       "<Figure size 432x288 with 10 Axes>"
      ]
     },
     "metadata": {
      "needs_background": "light"
     },
     "output_type": "display_data"
    }
   ],
   "source": [
    "fig, axs = plt.subplots(2, 5)\n",
    "\n",
    "for i in range(10):\n",
    "    axs[i // 5, i % 5].imshow(np_images[i])"
   ]
  },
  {
   "cell_type": "code",
   "execution_count": 12,
   "id": "useful-essence",
   "metadata": {},
   "outputs": [
    {
     "ename": "NameError",
     "evalue": "name 'np_images' is not defined",
     "output_type": "error",
     "traceback": [
      "\u001b[0;31m---------------------------------------------------------------------------\u001b[0m",
      "\u001b[0;31mNameError\u001b[0m                                 Traceback (most recent call last)",
      "\u001b[0;32m<ipython-input-12-444761b0e5d5>\u001b[0m in \u001b[0;36m<module>\u001b[0;34m\u001b[0m\n\u001b[0;32m----> 1\u001b[0;31m \u001b[0mnp\u001b[0m\u001b[0;34m.\u001b[0m\u001b[0msave\u001b[0m\u001b[0;34m(\u001b[0m\u001b[0;34m'bin_mnist.npy'\u001b[0m\u001b[0;34m,\u001b[0m \u001b[0mnp_images\u001b[0m\u001b[0;34m)\u001b[0m\u001b[0;34m\u001b[0m\u001b[0;34m\u001b[0m\u001b[0m\n\u001b[0m",
      "\u001b[0;31mNameError\u001b[0m: name 'np_images' is not defined"
     ]
    }
   ],
   "source": [
    "np.save('bin_mnist.npy', np_images)"
   ]
  },
  {
   "cell_type": "code",
   "execution_count": 13,
   "id": "logical-interpretation",
   "metadata": {},
   "outputs": [],
   "source": [
    "from datasets import BinarizedMNIST"
   ]
  },
  {
   "cell_type": "code",
   "execution_count": 14,
   "id": "thick-virginia",
   "metadata": {},
   "outputs": [],
   "source": [
    "#mnist_data = MNIST(root='./', download=True, transform=transforms.ToTensor())\n",
    "mnist_data = BinarizedMNIST('datasets/bin_mnist.npy')\n",
    "data_loader = torch.utils.data.DataLoader(mnist_data,\n",
    "                                          batch_size=1,\n",
    "                                          shuffle=True,\n",
    "                                          num_workers=0)"
   ]
  },
  {
   "cell_type": "markdown",
   "id": "expressed-agreement",
   "metadata": {},
   "source": [
    "## Model"
   ]
  },
  {
   "cell_type": "code",
   "execution_count": 33,
   "id": "marine-pixel",
   "metadata": {},
   "outputs": [],
   "source": [
    "D = 40\n",
    "\n",
    "encoder = FCNEncoder(hidden_sizes=[128, 64, 2*D], dim_input=28*28)\n",
    "flow_model = FlowModel(flows=['PlanarFlow'] * 10, D=40)\n",
    "decoder = FCNDecoder(hidden_sizes=[64, 128, 784], dim_input=40)"
   ]
  },
  {
   "cell_type": "code",
   "execution_count": 34,
   "id": "sealed-barrel",
   "metadata": {},
   "outputs": [
    {
     "name": "stdout",
     "output_type": "stream",
     "text": [
      "\n",
      "tensor([-55.8113], grad_fn=<SumBackward1>)\n",
      "tensor(0.7439, grad_fn=<BinaryCrossEntropyWithLogitsBackward>)\n",
      "tensor([-207.1264], grad_fn=<SumBackward1>)\n",
      "tensor([-0.0081], grad_fn=<AddBackward0>)\n",
      "\n",
      "tensor([152.0672], grad_fn=<SubBackward0>)\n"
     ]
    }
   ],
   "source": [
    "loss_fn = BCEWithLogitsLoss()\n",
    "\n",
    "for X_batch in data_loader:\n",
    "    out = encoder(X_batch.view(-1, 784).float())\n",
    "    mu, log_sigma = out[:, :40], out[:, 40:]\n",
    "    z_k, log_prob_z0, log_prob_zk, log_det = flow_model(mu, log_sigma)\n",
    "    x_hat = decoder(z_k)\n",
    "    \n",
    "    \n",
    "#     tmp = x_hat.clone().detach().view(28, 28).numpy()\n",
    "#     for i in range(28):\n",
    "#         for j in range(28):\n",
    "#             print(logsumexp([0, tmp[i, j]]), end=' ')\n",
    "#         print()\n",
    "    \n",
    "    print()\n",
    "#     for i in range(28):\n",
    "#         for j in range(28):\n",
    "#             print(X_batch[i, j], end=' ')\n",
    "#         print()\n",
    "            \n",
    "    \n",
    "    loss = log_prob_z0 + loss_fn(x_hat, X_batch.view(-1, 784).float()) - log_prob_zk - log_det\n",
    "    print(log_prob_z0, loss_fn(x_hat, X_batch.view(-1, 784).float()), log_prob_zk, log_det, sep='\\n')\n",
    "    #print(loss_fn(x_hat, X_batch.view(-1, 784).float()))\n",
    "    print()\n",
    "    print(loss)\n",
    "\n",
    "    break"
   ]
  },
  {
   "cell_type": "code",
   "execution_count": 29,
   "id": "confidential-wrapping",
   "metadata": {},
   "outputs": [
    {
     "name": "stdout",
     "output_type": "stream",
     "text": [
      "2.313261687518223\n"
     ]
    }
   ],
   "source": [
    "print(logsumexp([1, 2]))"
   ]
  },
  {
   "cell_type": "code",
   "execution_count": null,
   "id": "above-syndrome",
   "metadata": {},
   "outputs": [],
   "source": []
  }
 ],
 "metadata": {
  "kernelspec": {
   "display_name": "base",
   "language": "python",
   "name": "base"
  },
  "language_info": {
   "codemirror_mode": {
    "name": "ipython",
    "version": 3
   },
   "file_extension": ".py",
   "mimetype": "text/x-python",
   "name": "python",
   "nbconvert_exporter": "python",
   "pygments_lexer": "ipython3",
   "version": "3.6.9"
  }
 },
 "nbformat": 4,
 "nbformat_minor": 5
}
