{
 "cells": [
  {
   "cell_type": "markdown",
   "id": "according-ottawa",
   "metadata": {},
   "source": [
    "# Playing with Normalizing Flows"
   ]
  },
  {
   "cell_type": "markdown",
   "id": "russian-pulse",
   "metadata": {},
   "source": [
    "## Imports"
   ]
  },
  {
   "cell_type": "code",
   "execution_count": 184,
   "id": "liked-temple",
   "metadata": {},
   "outputs": [
    {
     "name": "stdout",
     "output_type": "stream",
     "text": [
      "The autoreload extension is already loaded. To reload it, use:\n",
      "  %reload_ext autoreload\n"
     ]
    }
   ],
   "source": [
    "import torch\n",
    "from flows import RadialFlow, PlanarFlow\n",
    "import torch.nn.functional as F\n",
    "from models import FCNEncoder, FCNDecoder, FlowModel\n",
    "from torchvision.datasets import MNIST\n",
    "from torchvision import transforms\n",
    "from torch.utils.data import DataLoader\n",
    "\n",
    "%load_ext autoreload\n",
    "%autoreload 2"
   ]
  },
  {
   "cell_type": "markdown",
   "id": "original-setup",
   "metadata": {},
   "source": [
    "## Unit tests"
   ]
  },
  {
   "cell_type": "code",
   "execution_count": 161,
   "id": "herbal-message",
   "metadata": {},
   "outputs": [],
   "source": [
    "layer = PlanarFlow(5)"
   ]
  },
  {
   "cell_type": "code",
   "execution_count": 163,
   "id": "current-fever",
   "metadata": {},
   "outputs": [
    {
     "name": "stdout",
     "output_type": "stream",
     "text": [
      "tensor([[-0.3397,  2.3723,  1.9228,  3.6415,  4.6746],\n",
      "        [ 8.1322,  6.4074,  9.7144,  9.5705, 10.5179]], grad_fn=<AddBackward0>)\n",
      "tensor([-0.1060, -0.5396], grad_fn=<LogBackward>)\n"
     ]
    }
   ],
   "source": [
    "z = torch.FloatTensor([[1, 2, 3, 4, 5], [6, 7, 8, 9, 10]])\n",
    "f, log_det = layer(z)\n",
    "print(f)\n",
    "print(log_det)"
   ]
  },
  {
   "cell_type": "markdown",
   "id": "documented-midwest",
   "metadata": {},
   "source": [
    "## Data"
   ]
  },
  {
   "cell_type": "code",
   "execution_count": 183,
   "id": "ranging-airplane",
   "metadata": {},
   "outputs": [],
   "source": [
    "mnist_data = MNIST(root='./', download=True, transform=transforms.ToTensor())\n",
    "data_loader = torch.utils.data.DataLoader(mnist_data,\n",
    "                                          batch_size=32,\n",
    "                                          shuffle=True,\n",
    "                                          num_workers=4)"
   ]
  },
  {
   "cell_type": "markdown",
   "id": "minute-retirement",
   "metadata": {},
   "source": [
    "## Model"
   ]
  },
  {
   "cell_type": "code",
   "execution_count": 191,
   "id": "smart-toronto",
   "metadata": {},
   "outputs": [],
   "source": [
    "D = 40\n",
    "\n",
    "encoder = FCNEncoder(hidden_sizes=[128, 64, 2*D], dim_input=28*28)\n",
    "flow_model = FlowModel(flows=['PlanarFlow'] * 10, D=40)\n",
    "decoder = FCNDecoder(hidden_sizes=[64, 128, 784], dim_input=40)"
   ]
  },
  {
   "cell_type": "code",
   "execution_count": null,
   "id": "dependent-blink",
   "metadata": {},
   "outputs": [],
   "source": []
  },
  {
   "cell_type": "code",
   "execution_count": null,
   "id": "accessory-danger",
   "metadata": {},
   "outputs": [],
   "source": []
  }
 ],
 "metadata": {
  "kernelspec": {
   "display_name": "Python 3",
   "language": "python",
   "name": "python3"
  },
  "language_info": {
   "codemirror_mode": {
    "name": "ipython",
    "version": 3
   },
   "file_extension": ".py",
   "mimetype": "text/x-python",
   "name": "python",
   "nbconvert_exporter": "python",
   "pygments_lexer": "ipython3",
   "version": "3.6.9"
  }
 },
 "nbformat": 4,
 "nbformat_minor": 5
}
